{
 "cells": [
  {
   "cell_type": "code",
   "execution_count": 1,
   "metadata": {
    "_cell_guid": "b1076dfc-b9ad-4769-8c92-a6c4dae69d19",
    "_uuid": "8f2839f25d086af736a60e9eeb907d3b93b6e0e5"
   },
   "outputs": [
    {
     "name": "stderr",
     "output_type": "stream",
     "text": [
      "Using TensorFlow backend.\n"
     ]
    },
    {
     "name": "stdout",
     "output_type": "stream",
     "text": [
      "['small_vocab_en.txt', 'small_vocab_fr.txt']\n"
     ]
    }
   ],
   "source": [
    "import os\n",
    "import numpy as np # linear algebra\n",
    "import pandas as pd # data processing, CSV file I/O (e.g. pd.read_csv)\n",
    "from keras.models import Model,Sequential\n",
    "# Input data files are available in the \"../input/\" directory.\n",
    "# For example, running this (by clicking run or pressing Shift+Enter) will list the files in the input directory\n",
    "from keras.layers import GRU,Embedding,Bidirectional,InputLayer,Input,Dense,TimeDistributed,Activation,RepeatVector,Bidirectional,Dot,Concatenate,LSTM\n",
    "from keras.optimizers import Adam\n",
    "from keras.preprocessing.text import Tokenizer\n",
    "print(os.listdir(\"../input\"))\n",
    "from keras.preprocessing.sequence import pad_sequences\n",
    "from keras.losses import sparse_categorical_crossentropy\n",
    "from keras.utils.np_utils import to_categorical\n",
    "# Any results you write to the current directory are saved as output."
   ]
  },
  {
   "cell_type": "code",
   "execution_count": 2,
   "metadata": {
    "_cell_guid": "79c7e3d0-c299-4dcb-8224-4455121ee9b0",
    "_uuid": "d629ff2d2480ee46fbb7e2d37f6b5fab8052498a"
   },
   "outputs": [],
   "source": [
    "with open(\"../input/small_vocab_en.txt\") as f:\n",
    "    eng=f.read()"
   ]
  },
  {
   "cell_type": "code",
   "execution_count": 3,
   "metadata": {},
   "outputs": [],
   "source": [
    "with open(\"../input/small_vocab_fr.txt\") as f:\n",
    "    fr=f.read()"
   ]
  },
  {
   "cell_type": "code",
   "execution_count": 4,
   "metadata": {},
   "outputs": [],
   "source": [
    "fr=fr.split(\"\\n\")"
   ]
  },
  {
   "cell_type": "code",
   "execution_count": 5,
   "metadata": {},
   "outputs": [],
   "source": [
    "eng=eng.split(\"\\n\")"
   ]
  },
  {
   "cell_type": "code",
   "execution_count": 6,
   "metadata": {},
   "outputs": [],
   "source": [
    "from collections import Counter"
   ]
  },
  {
   "cell_type": "code",
   "execution_count": 7,
   "metadata": {},
   "outputs": [],
   "source": [
    "engdict=Counter([token for sent in eng for token in sent.split(\" \")])"
   ]
  },
  {
   "cell_type": "code",
   "execution_count": 8,
   "metadata": {},
   "outputs": [],
   "source": [
    "frdict=Counter(token for sent in fr for token in sent.split(\" \"))"
   ]
  },
  {
   "cell_type": "code",
   "execution_count": null,
   "metadata": {},
   "outputs": [],
   "source": []
  },
  {
   "cell_type": "code",
   "execution_count": 9,
   "metadata": {},
   "outputs": [],
   "source": [
    "eng_vocabsize=len(engdict.keys())"
   ]
  },
  {
   "cell_type": "code",
   "execution_count": 10,
   "metadata": {},
   "outputs": [],
   "source": [
    "fr_vocabsize=len(frdict.keys())"
   ]
  },
  {
   "cell_type": "code",
   "execution_count": 11,
   "metadata": {},
   "outputs": [],
   "source": [
    "#Tokenize words into indexes we use keras tokenizer\n",
    "engtokenizer=Tokenizer()\n",
    "engtokenizer.fit_on_texts(eng)"
   ]
  },
  {
   "cell_type": "code",
   "execution_count": 12,
   "metadata": {},
   "outputs": [],
   "source": [
    "eng_token=engtokenizer.texts_to_sequences(eng)"
   ]
  },
  {
   "cell_type": "code",
   "execution_count": 13,
   "metadata": {},
   "outputs": [],
   "source": [
    "frtokenizer=Tokenizer()\n",
    "frtokenizer.fit_on_texts(fr)\n",
    "fr_token=frtokenizer.texts_to_sequences(fr)"
   ]
  },
  {
   "cell_type": "code",
   "execution_count": 14,
   "metadata": {},
   "outputs": [],
   "source": [
    "eng_ind=engtokenizer.word_index"
   ]
  },
  {
   "cell_type": "code",
   "execution_count": 15,
   "metadata": {},
   "outputs": [],
   "source": [
    "fr_ind=frtokenizer.word_index"
   ]
  },
  {
   "cell_type": "code",
   "execution_count": 16,
   "metadata": {},
   "outputs": [],
   "source": [
    "eng_token_pad=pad_sequences(eng_token,padding='post')"
   ]
  },
  {
   "cell_type": "code",
   "execution_count": 17,
   "metadata": {},
   "outputs": [],
   "source": [
    "fr_token_pad=pad_sequences(fr_token,padding='post')"
   ]
  },
  {
   "cell_type": "code",
   "execution_count": 18,
   "metadata": {},
   "outputs": [
    {
     "data": {
      "text/plain": [
       "(137861, 15)"
      ]
     },
     "execution_count": 18,
     "metadata": {},
     "output_type": "execute_result"
    }
   ],
   "source": [
    "eng_token_pad.shape"
   ]
  },
  {
   "cell_type": "code",
   "execution_count": 19,
   "metadata": {},
   "outputs": [
    {
     "data": {
      "text/plain": [
       "(137861, 21)"
      ]
     },
     "execution_count": 19,
     "metadata": {},
     "output_type": "execute_result"
    }
   ],
   "source": [
    "fr_token_pad.shape"
   ]
  },
  {
   "cell_type": "code",
   "execution_count": 20,
   "metadata": {},
   "outputs": [],
   "source": [
    "ind_w=frtokenizer.index_word"
   ]
  },
  {
   "cell_type": "code",
   "execution_count": 21,
   "metadata": {},
   "outputs": [],
   "source": [
    "ind_w[0]='<PAD>'"
   ]
  },
  {
   "cell_type": "code",
   "execution_count": 22,
   "metadata": {},
   "outputs": [],
   "source": [
    "max_eng_length=eng_token_pad.shape[1]\n",
    "max_fr_length=fr_token_pad.shape[1]"
   ]
  },
  {
   "cell_type": "code",
   "execution_count": 23,
   "metadata": {},
   "outputs": [],
   "source": [
    "word_ind=frtokenizer.word_index"
   ]
  },
  {
   "cell_type": "code",
   "execution_count": 24,
   "metadata": {},
   "outputs": [],
   "source": [
    "word_ind['<pad>']=0"
   ]
  },
  {
   "cell_type": "code",
   "execution_count": null,
   "metadata": {},
   "outputs": [],
   "source": []
  },
  {
   "cell_type": "code",
   "execution_count": 25,
   "metadata": {},
   "outputs": [],
   "source": [
    "Tx=max_eng_length\n",
    "Ty=max_fr_length"
   ]
  },
  {
   "cell_type": "code",
   "execution_count": 26,
   "metadata": {},
   "outputs": [],
   "source": [
    "densor=Dense(32,activation='relu')\n",
    "densor1=Dense(1,activation='relu')\n",
    "repeat=RepeatVector(Tx)\n",
    "activator=Activation('softmax')\n",
    "dotor=Dot(axes=1)"
   ]
  },
  {
   "cell_type": "code",
   "execution_count": 27,
   "metadata": {},
   "outputs": [],
   "source": [
    "def one_step_attention(a,st_prev):\n",
    "    st_prev1=repeat(st_prev)  # m X Tx X n_s\n",
    "    concat=Concatenate(axis=-1)([a,st_prev1])\n",
    "    dens=densor(concat)\n",
    "    dens1=densor1(dens)  #weights for attention  m X Tx\n",
    "    context=dotor([dens1,a])\n",
    "    context=activator(context)\n",
    "    return context"
   ]
  },
  {
   "cell_type": "code",
   "execution_count": 28,
   "metadata": {},
   "outputs": [],
   "source": [
    "n_a=128\n",
    "n_s=128\n",
    "post_activation_lstm=LSTM(n_s,return_state=True)\n",
    "outputlayer=Dense(len(word_ind),activation='softmax')"
   ]
  },
  {
   "cell_type": "code",
   "execution_count": 29,
   "metadata": {},
   "outputs": [],
   "source": [
    "eng_w=engtokenizer.word_index\n",
    "eng_w['<pad>']=0\n",
    "len1=len(eng_w)"
   ]
  },
  {
   "cell_type": "code",
   "execution_count": 30,
   "metadata": {},
   "outputs": [],
   "source": [
    "x=Input(shape=(Tx,))\n",
    "embed=Embedding(len1,64,input_length=Tx)(x)"
   ]
  },
  {
   "cell_type": "code",
   "execution_count": 31,
   "metadata": {},
   "outputs": [],
   "source": [
    "s0=Input(shape=(n_s,))\n",
    "c0=Input(shape=(n_s,))\n",
    "s=s0\n",
    "c=c0"
   ]
  },
  {
   "cell_type": "code",
   "execution_count": 32,
   "metadata": {},
   "outputs": [],
   "source": [
    "outputs=[]\n",
    "a=LSTM(n_a,return_sequences=True)(embed)"
   ]
  },
  {
   "cell_type": "code",
   "execution_count": 33,
   "metadata": {},
   "outputs": [],
   "source": [
    "for i in range(Ty):\n",
    "    context=one_step_attention(a,s)\n",
    "    s,_,c=post_activation_lstm(context,initial_state=[s,c])\n",
    "    \n",
    "    out=outputlayer(s)\n",
    "    outputs.append(out)\n",
    "    \n",
    "model=Model(inputs=[x,s0,c0],outputs=outputs)"
   ]
  },
  {
   "cell_type": "code",
   "execution_count": 34,
   "metadata": {},
   "outputs": [
    {
     "name": "stdout",
     "output_type": "stream",
     "text": [
      "__________________________________________________________________________________________________\n",
      "Layer (type)                    Output Shape         Param #     Connected to                     \n",
      "==================================================================================================\n",
      "input_1 (InputLayer)            (None, 15)           0                                            \n",
      "__________________________________________________________________________________________________\n",
      "embedding_1 (Embedding)         (None, 15, 64)       12800       input_1[0][0]                    \n",
      "__________________________________________________________________________________________________\n",
      "input_2 (InputLayer)            (None, 128)          0                                            \n",
      "__________________________________________________________________________________________________\n",
      "lstm_2 (LSTM)                   (None, 15, 128)      98816       embedding_1[0][0]                \n",
      "__________________________________________________________________________________________________\n",
      "repeat_vector_1 (RepeatVector)  (None, 15, 128)      0           input_2[0][0]                    \n",
      "                                                                 lstm_1[0][0]                     \n",
      "                                                                 lstm_1[1][0]                     \n",
      "                                                                 lstm_1[2][0]                     \n",
      "                                                                 lstm_1[3][0]                     \n",
      "                                                                 lstm_1[4][0]                     \n",
      "                                                                 lstm_1[5][0]                     \n",
      "                                                                 lstm_1[6][0]                     \n",
      "                                                                 lstm_1[7][0]                     \n",
      "                                                                 lstm_1[8][0]                     \n",
      "                                                                 lstm_1[9][0]                     \n",
      "                                                                 lstm_1[10][0]                    \n",
      "                                                                 lstm_1[11][0]                    \n",
      "                                                                 lstm_1[12][0]                    \n",
      "                                                                 lstm_1[13][0]                    \n",
      "                                                                 lstm_1[14][0]                    \n",
      "                                                                 lstm_1[15][0]                    \n",
      "                                                                 lstm_1[16][0]                    \n",
      "                                                                 lstm_1[17][0]                    \n",
      "                                                                 lstm_1[18][0]                    \n",
      "                                                                 lstm_1[19][0]                    \n",
      "__________________________________________________________________________________________________\n",
      "concatenate_1 (Concatenate)     (None, 15, 256)      0           lstm_2[0][0]                     \n",
      "                                                                 repeat_vector_1[0][0]            \n",
      "__________________________________________________________________________________________________\n",
      "dense_1 (Dense)                 (None, 15, 32)       8224        concatenate_1[0][0]              \n",
      "                                                                 concatenate_2[0][0]              \n",
      "                                                                 concatenate_3[0][0]              \n",
      "                                                                 concatenate_4[0][0]              \n",
      "                                                                 concatenate_5[0][0]              \n",
      "                                                                 concatenate_6[0][0]              \n",
      "                                                                 concatenate_7[0][0]              \n",
      "                                                                 concatenate_8[0][0]              \n",
      "                                                                 concatenate_9[0][0]              \n",
      "                                                                 concatenate_10[0][0]             \n",
      "                                                                 concatenate_11[0][0]             \n",
      "                                                                 concatenate_12[0][0]             \n",
      "                                                                 concatenate_13[0][0]             \n",
      "                                                                 concatenate_14[0][0]             \n",
      "                                                                 concatenate_15[0][0]             \n",
      "                                                                 concatenate_16[0][0]             \n",
      "                                                                 concatenate_17[0][0]             \n",
      "                                                                 concatenate_18[0][0]             \n",
      "                                                                 concatenate_19[0][0]             \n",
      "                                                                 concatenate_20[0][0]             \n",
      "                                                                 concatenate_21[0][0]             \n",
      "__________________________________________________________________________________________________\n",
      "dense_2 (Dense)                 (None, 15, 1)        33          dense_1[0][0]                    \n",
      "                                                                 dense_1[1][0]                    \n",
      "                                                                 dense_1[2][0]                    \n",
      "                                                                 dense_1[3][0]                    \n",
      "                                                                 dense_1[4][0]                    \n",
      "                                                                 dense_1[5][0]                    \n",
      "                                                                 dense_1[6][0]                    \n",
      "                                                                 dense_1[7][0]                    \n",
      "                                                                 dense_1[8][0]                    \n",
      "                                                                 dense_1[9][0]                    \n",
      "                                                                 dense_1[10][0]                   \n",
      "                                                                 dense_1[11][0]                   \n",
      "                                                                 dense_1[12][0]                   \n",
      "                                                                 dense_1[13][0]                   \n",
      "                                                                 dense_1[14][0]                   \n",
      "                                                                 dense_1[15][0]                   \n",
      "                                                                 dense_1[16][0]                   \n",
      "                                                                 dense_1[17][0]                   \n",
      "                                                                 dense_1[18][0]                   \n",
      "                                                                 dense_1[19][0]                   \n",
      "                                                                 dense_1[20][0]                   \n",
      "__________________________________________________________________________________________________\n",
      "dot_1 (Dot)                     (None, 1, 128)       0           dense_2[0][0]                    \n",
      "                                                                 lstm_2[0][0]                     \n",
      "                                                                 dense_2[1][0]                    \n",
      "                                                                 lstm_2[0][0]                     \n",
      "                                                                 dense_2[2][0]                    \n",
      "                                                                 lstm_2[0][0]                     \n",
      "                                                                 dense_2[3][0]                    \n",
      "                                                                 lstm_2[0][0]                     \n",
      "                                                                 dense_2[4][0]                    \n",
      "                                                                 lstm_2[0][0]                     \n",
      "                                                                 dense_2[5][0]                    \n",
      "                                                                 lstm_2[0][0]                     \n",
      "                                                                 dense_2[6][0]                    \n",
      "                                                                 lstm_2[0][0]                     \n",
      "                                                                 dense_2[7][0]                    \n",
      "                                                                 lstm_2[0][0]                     \n",
      "                                                                 dense_2[8][0]                    \n",
      "                                                                 lstm_2[0][0]                     \n",
      "                                                                 dense_2[9][0]                    \n",
      "                                                                 lstm_2[0][0]                     \n",
      "                                                                 dense_2[10][0]                   \n",
      "                                                                 lstm_2[0][0]                     \n",
      "                                                                 dense_2[11][0]                   \n",
      "                                                                 lstm_2[0][0]                     \n",
      "                                                                 dense_2[12][0]                   \n",
      "                                                                 lstm_2[0][0]                     \n",
      "                                                                 dense_2[13][0]                   \n",
      "                                                                 lstm_2[0][0]                     \n",
      "                                                                 dense_2[14][0]                   \n",
      "                                                                 lstm_2[0][0]                     \n",
      "                                                                 dense_2[15][0]                   \n",
      "                                                                 lstm_2[0][0]                     \n",
      "                                                                 dense_2[16][0]                   \n",
      "                                                                 lstm_2[0][0]                     \n",
      "                                                                 dense_2[17][0]                   \n",
      "                                                                 lstm_2[0][0]                     \n",
      "                                                                 dense_2[18][0]                   \n",
      "                                                                 lstm_2[0][0]                     \n",
      "                                                                 dense_2[19][0]                   \n",
      "                                                                 lstm_2[0][0]                     \n",
      "                                                                 dense_2[20][0]                   \n",
      "                                                                 lstm_2[0][0]                     \n",
      "__________________________________________________________________________________________________\n",
      "activation_1 (Activation)       (None, 1, 128)       0           dot_1[0][0]                      \n",
      "                                                                 dot_1[1][0]                      \n",
      "                                                                 dot_1[2][0]                      \n",
      "                                                                 dot_1[3][0]                      \n",
      "                                                                 dot_1[4][0]                      \n",
      "                                                                 dot_1[5][0]                      \n",
      "                                                                 dot_1[6][0]                      \n",
      "                                                                 dot_1[7][0]                      \n",
      "                                                                 dot_1[8][0]                      \n",
      "                                                                 dot_1[9][0]                      \n",
      "                                                                 dot_1[10][0]                     \n",
      "                                                                 dot_1[11][0]                     \n",
      "                                                                 dot_1[12][0]                     \n",
      "                                                                 dot_1[13][0]                     \n",
      "                                                                 dot_1[14][0]                     \n",
      "                                                                 dot_1[15][0]                     \n",
      "                                                                 dot_1[16][0]                     \n",
      "                                                                 dot_1[17][0]                     \n",
      "                                                                 dot_1[18][0]                     \n",
      "                                                                 dot_1[19][0]                     \n",
      "                                                                 dot_1[20][0]                     \n",
      "__________________________________________________________________________________________________\n",
      "input_3 (InputLayer)            (None, 128)          0                                            \n",
      "__________________________________________________________________________________________________\n",
      "lstm_1 (LSTM)                   [(None, 128), (None, 131584      activation_1[0][0]               \n",
      "                                                                 input_2[0][0]                    \n",
      "                                                                 input_3[0][0]                    \n",
      "                                                                 activation_1[1][0]               \n",
      "                                                                 lstm_1[0][0]                     \n",
      "                                                                 lstm_1[0][2]                     \n",
      "                                                                 activation_1[2][0]               \n",
      "                                                                 lstm_1[1][0]                     \n",
      "                                                                 lstm_1[1][2]                     \n",
      "                                                                 activation_1[3][0]               \n",
      "                                                                 lstm_1[2][0]                     \n",
      "                                                                 lstm_1[2][2]                     \n",
      "                                                                 activation_1[4][0]               \n",
      "                                                                 lstm_1[3][0]                     \n",
      "                                                                 lstm_1[3][2]                     \n",
      "                                                                 activation_1[5][0]               \n",
      "                                                                 lstm_1[4][0]                     \n",
      "                                                                 lstm_1[4][2]                     \n",
      "                                                                 activation_1[6][0]               \n",
      "                                                                 lstm_1[5][0]                     \n",
      "                                                                 lstm_1[5][2]                     \n",
      "                                                                 activation_1[7][0]               \n",
      "                                                                 lstm_1[6][0]                     \n",
      "                                                                 lstm_1[6][2]                     \n",
      "                                                                 activation_1[8][0]               \n",
      "                                                                 lstm_1[7][0]                     \n",
      "                                                                 lstm_1[7][2]                     \n",
      "                                                                 activation_1[9][0]               \n",
      "                                                                 lstm_1[8][0]                     \n",
      "                                                                 lstm_1[8][2]                     \n",
      "                                                                 activation_1[10][0]              \n",
      "                                                                 lstm_1[9][0]                     \n",
      "                                                                 lstm_1[9][2]                     \n",
      "                                                                 activation_1[11][0]              \n",
      "                                                                 lstm_1[10][0]                    \n",
      "                                                                 lstm_1[10][2]                    \n",
      "                                                                 activation_1[12][0]              \n",
      "                                                                 lstm_1[11][0]                    \n",
      "                                                                 lstm_1[11][2]                    \n",
      "                                                                 activation_1[13][0]              \n",
      "                                                                 lstm_1[12][0]                    \n",
      "                                                                 lstm_1[12][2]                    \n",
      "                                                                 activation_1[14][0]              \n",
      "                                                                 lstm_1[13][0]                    \n",
      "                                                                 lstm_1[13][2]                    \n",
      "                                                                 activation_1[15][0]              \n",
      "                                                                 lstm_1[14][0]                    \n",
      "                                                                 lstm_1[14][2]                    \n",
      "                                                                 activation_1[16][0]              \n",
      "                                                                 lstm_1[15][0]                    \n",
      "                                                                 lstm_1[15][2]                    \n",
      "                                                                 activation_1[17][0]              \n",
      "                                                                 lstm_1[16][0]                    \n",
      "                                                                 lstm_1[16][2]                    \n",
      "                                                                 activation_1[18][0]              \n",
      "                                                                 lstm_1[17][0]                    \n",
      "                                                                 lstm_1[17][2]                    \n",
      "                                                                 activation_1[19][0]              \n",
      "                                                                 lstm_1[18][0]                    \n",
      "                                                                 lstm_1[18][2]                    \n",
      "                                                                 activation_1[20][0]              \n",
      "                                                                 lstm_1[19][0]                    \n",
      "                                                                 lstm_1[19][2]                    \n",
      "__________________________________________________________________________________________________\n",
      "concatenate_2 (Concatenate)     (None, 15, 256)      0           lstm_2[0][0]                     \n",
      "                                                                 repeat_vector_1[1][0]            \n",
      "__________________________________________________________________________________________________\n",
      "concatenate_3 (Concatenate)     (None, 15, 256)      0           lstm_2[0][0]                     \n",
      "                                                                 repeat_vector_1[2][0]            \n",
      "__________________________________________________________________________________________________\n",
      "concatenate_4 (Concatenate)     (None, 15, 256)      0           lstm_2[0][0]                     \n",
      "                                                                 repeat_vector_1[3][0]            \n",
      "__________________________________________________________________________________________________\n",
      "concatenate_5 (Concatenate)     (None, 15, 256)      0           lstm_2[0][0]                     \n",
      "                                                                 repeat_vector_1[4][0]            \n",
      "__________________________________________________________________________________________________\n",
      "concatenate_6 (Concatenate)     (None, 15, 256)      0           lstm_2[0][0]                     \n",
      "                                                                 repeat_vector_1[5][0]            \n",
      "__________________________________________________________________________________________________\n",
      "concatenate_7 (Concatenate)     (None, 15, 256)      0           lstm_2[0][0]                     \n",
      "                                                                 repeat_vector_1[6][0]            \n",
      "__________________________________________________________________________________________________\n",
      "concatenate_8 (Concatenate)     (None, 15, 256)      0           lstm_2[0][0]                     \n",
      "                                                                 repeat_vector_1[7][0]            \n",
      "__________________________________________________________________________________________________\n",
      "concatenate_9 (Concatenate)     (None, 15, 256)      0           lstm_2[0][0]                     \n",
      "                                                                 repeat_vector_1[8][0]            \n",
      "__________________________________________________________________________________________________\n",
      "concatenate_10 (Concatenate)    (None, 15, 256)      0           lstm_2[0][0]                     \n",
      "                                                                 repeat_vector_1[9][0]            \n",
      "__________________________________________________________________________________________________\n",
      "concatenate_11 (Concatenate)    (None, 15, 256)      0           lstm_2[0][0]                     \n",
      "                                                                 repeat_vector_1[10][0]           \n",
      "__________________________________________________________________________________________________\n",
      "concatenate_12 (Concatenate)    (None, 15, 256)      0           lstm_2[0][0]                     \n",
      "                                                                 repeat_vector_1[11][0]           \n",
      "__________________________________________________________________________________________________\n",
      "concatenate_13 (Concatenate)    (None, 15, 256)      0           lstm_2[0][0]                     \n",
      "                                                                 repeat_vector_1[12][0]           \n",
      "__________________________________________________________________________________________________\n",
      "concatenate_14 (Concatenate)    (None, 15, 256)      0           lstm_2[0][0]                     \n",
      "                                                                 repeat_vector_1[13][0]           \n",
      "__________________________________________________________________________________________________\n",
      "concatenate_15 (Concatenate)    (None, 15, 256)      0           lstm_2[0][0]                     \n",
      "                                                                 repeat_vector_1[14][0]           \n",
      "__________________________________________________________________________________________________\n",
      "concatenate_16 (Concatenate)    (None, 15, 256)      0           lstm_2[0][0]                     \n",
      "                                                                 repeat_vector_1[15][0]           \n",
      "__________________________________________________________________________________________________\n",
      "concatenate_17 (Concatenate)    (None, 15, 256)      0           lstm_2[0][0]                     \n",
      "                                                                 repeat_vector_1[16][0]           \n",
      "__________________________________________________________________________________________________\n",
      "concatenate_18 (Concatenate)    (None, 15, 256)      0           lstm_2[0][0]                     \n",
      "                                                                 repeat_vector_1[17][0]           \n",
      "__________________________________________________________________________________________________\n",
      "concatenate_19 (Concatenate)    (None, 15, 256)      0           lstm_2[0][0]                     \n",
      "                                                                 repeat_vector_1[18][0]           \n",
      "__________________________________________________________________________________________________\n",
      "concatenate_20 (Concatenate)    (None, 15, 256)      0           lstm_2[0][0]                     \n",
      "                                                                 repeat_vector_1[19][0]           \n",
      "__________________________________________________________________________________________________\n",
      "concatenate_21 (Concatenate)    (None, 15, 256)      0           lstm_2[0][0]                     \n",
      "                                                                 repeat_vector_1[20][0]           \n",
      "__________________________________________________________________________________________________\n",
      "dense_3 (Dense)                 (None, 346)          44634       lstm_1[0][0]                     \n",
      "                                                                 lstm_1[1][0]                     \n",
      "                                                                 lstm_1[2][0]                     \n",
      "                                                                 lstm_1[3][0]                     \n",
      "                                                                 lstm_1[4][0]                     \n",
      "                                                                 lstm_1[5][0]                     \n",
      "                                                                 lstm_1[6][0]                     \n",
      "                                                                 lstm_1[7][0]                     \n",
      "                                                                 lstm_1[8][0]                     \n",
      "                                                                 lstm_1[9][0]                     \n",
      "                                                                 lstm_1[10][0]                    \n",
      "                                                                 lstm_1[11][0]                    \n",
      "                                                                 lstm_1[12][0]                    \n",
      "                                                                 lstm_1[13][0]                    \n",
      "                                                                 lstm_1[14][0]                    \n",
      "                                                                 lstm_1[15][0]                    \n",
      "                                                                 lstm_1[16][0]                    \n",
      "                                                                 lstm_1[17][0]                    \n",
      "                                                                 lstm_1[18][0]                    \n",
      "                                                                 lstm_1[19][0]                    \n",
      "                                                                 lstm_1[20][0]                    \n",
      "==================================================================================================\n",
      "Total params: 296,091\n",
      "Trainable params: 296,091\n",
      "Non-trainable params: 0\n",
      "__________________________________________________________________________________________________\n"
     ]
    }
   ],
   "source": [
    "model.summary()"
   ]
  },
  {
   "cell_type": "code",
   "execution_count": 35,
   "metadata": {},
   "outputs": [],
   "source": [
    "model.compile(optimizer='adam',metrics=['accuracy'],loss='categorical_crossentropy')"
   ]
  },
  {
   "cell_type": "code",
   "execution_count": 36,
   "metadata": {},
   "outputs": [],
   "source": [
    "m=len(eng_token_pad)\n",
    "epochs=5"
   ]
  },
  {
   "cell_type": "code",
   "execution_count": 37,
   "metadata": {},
   "outputs": [],
   "source": [
    "s0=np.zeros((m,n_s))\n",
    "c0=np.zeros((m,n_s))\n"
   ]
  },
  {
   "cell_type": "code",
   "execution_count": 38,
   "metadata": {},
   "outputs": [
    {
     "data": {
      "text/plain": [
       "346"
      ]
     },
     "execution_count": 38,
     "metadata": {},
     "output_type": "execute_result"
    }
   ],
   "source": [
    "len(word_ind)"
   ]
  },
  {
   "cell_type": "code",
   "execution_count": 39,
   "metadata": {},
   "outputs": [],
   "source": [
    "y_hot=to_categorical(fr_token_pad,len(word_ind))"
   ]
  },
  {
   "cell_type": "code",
   "execution_count": 40,
   "metadata": {},
   "outputs": [
    {
     "name": "stdout",
     "output_type": "stream",
     "text": [
      "Epoch 1/5\n",
      "137861/137861 [==============================] - 277s 2ms/step - loss: 51.8063 - dense_3_loss: 0.0614 - dense_3_acc: 0.0805 - dense_3_acc_1: 0.2266 - dense_3_acc_2: 0.3296 - dense_3_acc_3: 0.1150 - dense_3_acc_4: 0.0886 - dense_3_acc_5: 0.1036 - dense_3_acc_6: 0.1524 - dense_3_acc_7: 0.1527 - dense_3_acc_8: 0.1661 - dense_3_acc_9: 0.2193 - dense_3_acc_10: 0.2571 - dense_3_acc_11: 0.2857 - dense_3_acc_12: 0.3846 - dense_3_acc_13: 0.5305 - dense_3_acc_14: 0.7614 - dense_3_acc_15: 0.9153 - dense_3_acc_16: 0.9734 - dense_3_acc_17: 0.9938 - dense_3_acc_18: 0.9987 - dense_3_acc_19: 0.9995 - dense_3_acc_20: 0.9995\n",
      "Epoch 2/5\n",
      " 45760/137861 [========>.....................] - ETA: 2:48 - loss: 47.9886 - dense_3_loss: 0.0016 - dense_3_acc: 0.1494 - dense_3_acc_1: 0.2315 - dense_3_acc_2: 0.3429 - dense_3_acc_3: 0.1193 - dense_3_acc_4: 0.1016 - dense_3_acc_5: 0.1211 - dense_3_acc_6: 0.1717 - dense_3_acc_7: 0.1683 - dense_3_acc_8: 0.1759 - dense_3_acc_9: 0.2166 - dense_3_acc_10: 0.2592 - dense_3_acc_11: 0.2854 - dense_3_acc_12: 0.3839 - dense_3_acc_13: 0.5284 - dense_3_acc_14: 0.7608 - dense_3_acc_15: 0.9155 - dense_3_acc_16: 0.9736 - dense_3_acc_17: 0.9948 - dense_3_acc_18: 0.9991 - dense_3_acc_19: 0.9999 - dense_3_acc_20: 1.0000"
     ]
    }
   ],
   "source": [
    "model.fit([eng_token_pad,s0,c0],list(y_hot.swapaxes(0,1)),epochs=epochs,batch_size=64)"
   ]
  },
  {
   "cell_type": "code",
   "execution_count": 41,
   "metadata": {},
   "outputs": [],
   "source": [
    "#while training models on machine translation on different attention models\n",
    "# scalar product gives better accuracy in from the starting but it is slow as compared to attention applied\n",
    "# in this notebook"
   ]
  },
  {
   "cell_type": "code",
   "execution_count": null,
   "metadata": {},
   "outputs": [],
   "source": []
  }
 ],
 "metadata": {
  "kernelspec": {
   "display_name": "Python 3",
   "language": "python",
   "name": "python3"
  },
  "language_info": {
   "codemirror_mode": {
    "name": "ipython",
    "version": 3
   },
   "file_extension": ".py",
   "mimetype": "text/x-python",
   "name": "python",
   "nbconvert_exporter": "python",
   "pygments_lexer": "ipython3",
   "version": "3.6.6"
  }
 },
 "nbformat": 4,
 "nbformat_minor": 1
}
