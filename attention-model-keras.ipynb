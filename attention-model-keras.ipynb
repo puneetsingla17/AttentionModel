{
 "cells": [
  {
   "cell_type": "code",
   "execution_count": 1,
   "metadata": {
    "_cell_guid": "b1076dfc-b9ad-4769-8c92-a6c4dae69d19",
    "_uuid": "8f2839f25d086af736a60e9eeb907d3b93b6e0e5"
   },
   "outputs": [
    {
     "name": "stderr",
     "output_type": "stream",
     "text": [
      "Using TensorFlow backend.\n"
     ]
    },
    {
     "name": "stdout",
     "output_type": "stream",
     "text": [
      "['repository']\n"
     ]
    }
   ],
   "source": [
    "# This Python 3 environment comes with many helpful analytics libraries installed\n",
    "# It is defined by the kaggle/python docker image: https://github.com/kaggle/docker-python\n",
    "# For example, here's several helpful packages to load in \n",
    "\n",
    "import numpy as np # linear algebra\n",
    "import pandas as pd # data processing, CSV file I/O (e.g. pd.read_csv)\n",
    "# Input data files are available in the \"../input/\" directory.\n",
    "# For example, running this (by clicking run or pressing Shift+Enter) will list the files in the input directory\n",
    "from keras.utils.np_utils import to_categorical\n",
    "import os\n",
    "print(os.listdir(\"../input\"))\n",
    "from keras.models import Model\n",
    "from keras.layers import LSTM,Embedding,Input,Flatten,Dot,Concatenate,RepeatVector,Activation,Dense\n",
    "# Any results you write to the current directory are saved as output."
   ]
  },
  {
   "cell_type": "code",
   "execution_count": 2,
   "metadata": {
    "_cell_guid": "79c7e3d0-c299-4dcb-8224-4455121ee9b0",
    "_uuid": "d629ff2d2480ee46fbb7e2d37f6b5fab8052498a"
   },
   "outputs": [],
   "source": [
    "f=open(\"../input/repository/udacity-deep-learning-c6b46a0/seq2seq/data/letters_source.txt\")\n",
    "data=f.read()"
   ]
  },
  {
   "cell_type": "code",
   "execution_count": 3,
   "metadata": {},
   "outputs": [],
   "source": [
    "data=data.split(\"\\n\")"
   ]
  },
  {
   "cell_type": "code",
   "execution_count": 4,
   "metadata": {},
   "outputs": [],
   "source": [
    "sourcedata=open(\"../input/repository/udacity-deep-learning-c6b46a0/seq2seq/data/letters_target.txt\")"
   ]
  },
  {
   "cell_type": "code",
   "execution_count": 5,
   "metadata": {},
   "outputs": [],
   "source": [
    "source=sourcedata.read()\n",
    "source=source.split(\"\\n\")"
   ]
  },
  {
   "cell_type": "code",
   "execution_count": 6,
   "metadata": {},
   "outputs": [
    {
     "data": {
      "text/plain": [
       "['abqqs', 'npy', 'bjluw', 'bqv', 'aikl']"
      ]
     },
     "execution_count": 6,
     "metadata": {},
     "output_type": "execute_result"
    }
   ],
   "source": [
    "source[:5]"
   ]
  },
  {
   "cell_type": "code",
   "execution_count": 7,
   "metadata": {},
   "outputs": [
    {
     "data": {
      "text/plain": [
       "['bsaqq', 'npy', 'lbwuj', 'bqv', 'kial']"
      ]
     },
     "execution_count": 7,
     "metadata": {},
     "output_type": "execute_result"
    }
   ],
   "source": [
    "data[:5]"
   ]
  },
  {
   "cell_type": "code",
   "execution_count": 8,
   "metadata": {},
   "outputs": [],
   "source": [
    "data1=[list(i) for i in data]\n",
    "source1=[list(i) for i in source]"
   ]
  },
  {
   "cell_type": "code",
   "execution_count": 9,
   "metadata": {},
   "outputs": [
    {
     "data": {
      "text/plain": [
       "['b', 's', 'a', 'q', 'q']"
      ]
     },
     "execution_count": 9,
     "metadata": {},
     "output_type": "execute_result"
    }
   ],
   "source": [
    "data1[0]"
   ]
  },
  {
   "cell_type": "code",
   "execution_count": 10,
   "metadata": {},
   "outputs": [
    {
     "data": {
      "text/plain": [
       "['a', 'b', 'q', 'q', 's']"
      ]
     },
     "execution_count": 10,
     "metadata": {},
     "output_type": "execute_result"
    }
   ],
   "source": [
    "source1[0]"
   ]
  },
  {
   "cell_type": "code",
   "execution_count": 11,
   "metadata": {},
   "outputs": [],
   "source": [
    "uniquewords=set()\n",
    "for i in data1:\n",
    "    uniquewords.update(set(i))"
   ]
  },
  {
   "cell_type": "code",
   "execution_count": 12,
   "metadata": {},
   "outputs": [
    {
     "data": {
      "text/plain": [
       "{'a',\n",
       " 'b',\n",
       " 'c',\n",
       " 'd',\n",
       " 'e',\n",
       " 'f',\n",
       " 'g',\n",
       " 'h',\n",
       " 'i',\n",
       " 'j',\n",
       " 'k',\n",
       " 'l',\n",
       " 'm',\n",
       " 'n',\n",
       " 'o',\n",
       " 'p',\n",
       " 'q',\n",
       " 'r',\n",
       " 's',\n",
       " 't',\n",
       " 'u',\n",
       " 'v',\n",
       " 'w',\n",
       " 'x',\n",
       " 'y',\n",
       " 'z'}"
      ]
     },
     "execution_count": 12,
     "metadata": {},
     "output_type": "execute_result"
    }
   ],
   "source": [
    "uniquewords"
   ]
  },
  {
   "cell_type": "code",
   "execution_count": 13,
   "metadata": {},
   "outputs": [],
   "source": [
    "wordindex=dict([(v,k+1) for k,v in enumerate(uniquewords)])"
   ]
  },
  {
   "cell_type": "code",
   "execution_count": 14,
   "metadata": {},
   "outputs": [
    {
     "data": {
      "text/plain": [
       "{'p': 1,\n",
       " 'q': 2,\n",
       " 'v': 3,\n",
       " 'm': 4,\n",
       " 's': 5,\n",
       " 'h': 6,\n",
       " 'd': 7,\n",
       " 'a': 8,\n",
       " 'r': 9,\n",
       " 'f': 10,\n",
       " 'j': 11,\n",
       " 'b': 12,\n",
       " 'y': 13,\n",
       " 'e': 14,\n",
       " 'u': 15,\n",
       " 'g': 16,\n",
       " 'x': 17,\n",
       " 'z': 18,\n",
       " 'i': 19,\n",
       " 't': 20,\n",
       " 'l': 21,\n",
       " 'n': 22,\n",
       " 'o': 23,\n",
       " 'c': 24,\n",
       " 'w': 25,\n",
       " 'k': 26}"
      ]
     },
     "execution_count": 14,
     "metadata": {},
     "output_type": "execute_result"
    }
   ],
   "source": [
    "wordindex"
   ]
  },
  {
   "cell_type": "code",
   "execution_count": 15,
   "metadata": {},
   "outputs": [],
   "source": [
    "wordindex['<PAD>']=0"
   ]
  },
  {
   "cell_type": "code",
   "execution_count": 16,
   "metadata": {},
   "outputs": [],
   "source": [
    "wordindex['<go>']=len(wordindex)\n"
   ]
  },
  {
   "cell_type": "code",
   "execution_count": 17,
   "metadata": {},
   "outputs": [],
   "source": [
    "indexword=dict([(k,v) for v,k in wordindex.items()])"
   ]
  },
  {
   "cell_type": "code",
   "execution_count": 18,
   "metadata": {},
   "outputs": [
    {
     "data": {
      "text/plain": [
       "{1: 'p',\n",
       " 2: 'q',\n",
       " 3: 'v',\n",
       " 4: 'm',\n",
       " 5: 's',\n",
       " 6: 'h',\n",
       " 7: 'd',\n",
       " 8: 'a',\n",
       " 9: 'r',\n",
       " 10: 'f',\n",
       " 11: 'j',\n",
       " 12: 'b',\n",
       " 13: 'y',\n",
       " 14: 'e',\n",
       " 15: 'u',\n",
       " 16: 'g',\n",
       " 17: 'x',\n",
       " 18: 'z',\n",
       " 19: 'i',\n",
       " 20: 't',\n",
       " 21: 'l',\n",
       " 22: 'n',\n",
       " 23: 'o',\n",
       " 24: 'c',\n",
       " 25: 'w',\n",
       " 26: 'k',\n",
       " 0: '<PAD>',\n",
       " 27: '<go>'}"
      ]
     },
     "execution_count": 18,
     "metadata": {},
     "output_type": "execute_result"
    }
   ],
   "source": [
    "indexword"
   ]
  },
  {
   "cell_type": "code",
   "execution_count": 19,
   "metadata": {},
   "outputs": [],
   "source": [
    "len1=len(wordindex)"
   ]
  },
  {
   "cell_type": "code",
   "execution_count": 20,
   "metadata": {},
   "outputs": [],
   "source": [
    "#preprocessing ,padding \n",
    "maxdatalen=max(map(len,data1))"
   ]
  },
  {
   "cell_type": "code",
   "execution_count": 21,
   "metadata": {},
   "outputs": [],
   "source": [
    "maxsourcelen=max(map(len,source1))"
   ]
  },
  {
   "cell_type": "code",
   "execution_count": 22,
   "metadata": {},
   "outputs": [
    {
     "data": {
      "text/plain": [
       "7"
      ]
     },
     "execution_count": 22,
     "metadata": {},
     "output_type": "execute_result"
    }
   ],
   "source": [
    "maxsourcelen"
   ]
  },
  {
   "cell_type": "code",
   "execution_count": 23,
   "metadata": {},
   "outputs": [
    {
     "data": {
      "text/plain": [
       "27"
      ]
     },
     "execution_count": 23,
     "metadata": {},
     "output_type": "execute_result"
    }
   ],
   "source": [
    "wordindex['<go>']"
   ]
  },
  {
   "cell_type": "code",
   "execution_count": 24,
   "metadata": {},
   "outputs": [],
   "source": [
    "xtrain=np.zeros((len(data1),maxdatalen))\n",
    "y=np.zeros((len(source1),maxsourcelen+1))"
   ]
  },
  {
   "cell_type": "code",
   "execution_count": 25,
   "metadata": {},
   "outputs": [],
   "source": [
    "for i in range(len(data1)):\n",
    "    m=len(data1[i])\n",
    "    xtrain[i,:m]=[wordindex[j] for j in data[i]]\n",
    "    y[i,:m+1]=[wordindex['<go>']]+[wordindex[j] for j in source[i]]"
   ]
  },
  {
   "cell_type": "code",
   "execution_count": 26,
   "metadata": {},
   "outputs": [
    {
     "data": {
      "text/plain": [
       "array([[27.,  8., 12.,  2.,  2.,  5.,  0.,  0.],\n",
       "       [27., 22.,  1., 13.,  0.,  0.,  0.,  0.],\n",
       "       [27., 12., 11., 21., 15., 25.,  0.,  0.],\n",
       "       [27., 12.,  2.,  3.,  0.,  0.,  0.,  0.],\n",
       "       [27.,  8., 19., 26., 21.,  0.,  0.,  0.]])"
      ]
     },
     "execution_count": 26,
     "metadata": {},
     "output_type": "execute_result"
    }
   ],
   "source": [
    "y[:5]"
   ]
  },
  {
   "cell_type": "code",
   "execution_count": 27,
   "metadata": {},
   "outputs": [
    {
     "data": {
      "text/plain": [
       "array([[12.,  5.,  8.,  2.,  2.,  0.,  0.],\n",
       "       [22.,  1., 13.,  0.,  0.,  0.,  0.],\n",
       "       [21., 12., 25., 15., 11.,  0.,  0.],\n",
       "       [12.,  2.,  3.,  0.,  0.,  0.,  0.],\n",
       "       [26., 19.,  8., 21.,  0.,  0.,  0.]])"
      ]
     },
     "execution_count": 27,
     "metadata": {},
     "output_type": "execute_result"
    }
   ],
   "source": [
    "xtrain[:5]"
   ]
  },
  {
   "cell_type": "code",
   "execution_count": null,
   "metadata": {},
   "outputs": [],
   "source": []
  },
  {
   "cell_type": "code",
   "execution_count": 28,
   "metadata": {},
   "outputs": [],
   "source": [
    "Tx=7\n",
    "Ty=8"
   ]
  },
  {
   "cell_type": "code",
   "execution_count": 29,
   "metadata": {},
   "outputs": [
    {
     "data": {
      "text/plain": [
       "array([[27.,  8., 12.,  2.,  2.,  5.,  0.,  0.],\n",
       "       [27., 22.,  1., 13.,  0.,  0.,  0.,  0.],\n",
       "       [27., 12., 11., 21., 15., 25.,  0.,  0.],\n",
       "       [27., 12.,  2.,  3.,  0.,  0.,  0.,  0.],\n",
       "       [27.,  8., 19., 26., 21.,  0.,  0.,  0.]])"
      ]
     },
     "execution_count": 29,
     "metadata": {},
     "output_type": "execute_result"
    }
   ],
   "source": [
    "y[:5]"
   ]
  },
  {
   "cell_type": "code",
   "execution_count": 30,
   "metadata": {},
   "outputs": [],
   "source": [
    "y_hot=to_categorical(y,len(wordindex))"
   ]
  },
  {
   "cell_type": "code",
   "execution_count": 31,
   "metadata": {},
   "outputs": [
    {
     "data": {
      "text/plain": [
       "(10000, 8, 28)"
      ]
     },
     "execution_count": 31,
     "metadata": {},
     "output_type": "execute_result"
    }
   ],
   "source": [
    "y_hot.shape"
   ]
  },
  {
   "cell_type": "code",
   "execution_count": 32,
   "metadata": {},
   "outputs": [],
   "source": [
    "densor=Dense(16,activation='relu')\n",
    "densor1=Dense(1,activation='relu')\n",
    "repeat=RepeatVector(Tx)\n",
    "activator=Activation('softmax')\n",
    "dotor=Dot(axes=1)"
   ]
  },
  {
   "cell_type": "code",
   "execution_count": 33,
   "metadata": {},
   "outputs": [],
   "source": [
    "def one_step_attention(a,st_prev):\n",
    "    st_prev1=repeat(st_prev)  # m X Tx X n_s\n",
    "    concat=Concatenate(axis=-1)([a,st_prev1])\n",
    "    dens=densor(concat)\n",
    "    dens1=densor1(dens)  #weights for attention  m X Tx\n",
    "    context=dotor([dens1,a])\n",
    "    context=activator(context)\n",
    "    return context"
   ]
  },
  {
   "cell_type": "code",
   "execution_count": 34,
   "metadata": {},
   "outputs": [],
   "source": [
    "n_a=64\n",
    "n_s=64\n",
    "post_activation_lstm=LSTM(n_s,return_state=True)\n",
    "outputlayer=Dense(len(wordindex),activation='softmax')"
   ]
  },
  {
   "cell_type": "code",
   "execution_count": 35,
   "metadata": {},
   "outputs": [
    {
     "data": {
      "text/plain": [
       "7"
      ]
     },
     "execution_count": 35,
     "metadata": {},
     "output_type": "execute_result"
    }
   ],
   "source": [
    "Tx"
   ]
  },
  {
   "cell_type": "code",
   "execution_count": 36,
   "metadata": {},
   "outputs": [],
   "source": [
    "x=Input(shape=(Tx,))\n",
    "embed=Embedding(len1,24,input_length=Tx)(x)"
   ]
  },
  {
   "cell_type": "code",
   "execution_count": 37,
   "metadata": {},
   "outputs": [],
   "source": [
    "s0=Input(shape=(n_s,))\n",
    "c0=Input(shape=(n_s,))\n",
    "s=s0\n",
    "c=c0"
   ]
  },
  {
   "cell_type": "code",
   "execution_count": 38,
   "metadata": {},
   "outputs": [],
   "source": [
    "outputs=[]\n",
    "a=LSTM(n_a,return_sequences=True)(embed)"
   ]
  },
  {
   "cell_type": "code",
   "execution_count": 39,
   "metadata": {},
   "outputs": [],
   "source": [
    "for i in range(Ty):\n",
    "    context=one_step_attention(a,s)\n",
    "    s,_,c=post_activation_lstm(context,initial_state=[s,c])\n",
    "    \n",
    "    out=outputlayer(s)\n",
    "    outputs.append(out)\n",
    "    \n",
    "model=Model(inputs=[x,s0,c0],outputs=outputs)"
   ]
  },
  {
   "cell_type": "code",
   "execution_count": 40,
   "metadata": {},
   "outputs": [
    {
     "data": {
      "text/plain": [
       "<tf.Tensor 'dense_3/Softmax:0' shape=(?, 28) dtype=float32>"
      ]
     },
     "execution_count": 40,
     "metadata": {},
     "output_type": "execute_result"
    }
   ],
   "source": [
    "outputs[0]"
   ]
  },
  {
   "cell_type": "code",
   "execution_count": 41,
   "metadata": {},
   "outputs": [
    {
     "data": {
      "text/plain": [
       "8"
      ]
     },
     "execution_count": 41,
     "metadata": {},
     "output_type": "execute_result"
    }
   ],
   "source": [
    "len(outputs)"
   ]
  },
  {
   "cell_type": "code",
   "execution_count": 42,
   "metadata": {},
   "outputs": [
    {
     "data": {
      "text/plain": [
       "(8, 28)"
      ]
     },
     "execution_count": 42,
     "metadata": {},
     "output_type": "execute_result"
    }
   ],
   "source": [
    "y_hot[0].shape"
   ]
  },
  {
   "cell_type": "code",
   "execution_count": 43,
   "metadata": {},
   "outputs": [
    {
     "name": "stdout",
     "output_type": "stream",
     "text": [
      "__________________________________________________________________________________________________\n",
      "Layer (type)                    Output Shape         Param #     Connected to                     \n",
      "==================================================================================================\n",
      "input_1 (InputLayer)            (None, 7)            0                                            \n",
      "__________________________________________________________________________________________________\n",
      "embedding_1 (Embedding)         (None, 7, 24)        672         input_1[0][0]                    \n",
      "__________________________________________________________________________________________________\n",
      "input_2 (InputLayer)            (None, 64)           0                                            \n",
      "__________________________________________________________________________________________________\n",
      "lstm_2 (LSTM)                   (None, 7, 64)        22784       embedding_1[0][0]                \n",
      "__________________________________________________________________________________________________\n",
      "repeat_vector_1 (RepeatVector)  (None, 7, 64)        0           input_2[0][0]                    \n",
      "                                                                 lstm_1[0][0]                     \n",
      "                                                                 lstm_1[1][0]                     \n",
      "                                                                 lstm_1[2][0]                     \n",
      "                                                                 lstm_1[3][0]                     \n",
      "                                                                 lstm_1[4][0]                     \n",
      "                                                                 lstm_1[5][0]                     \n",
      "                                                                 lstm_1[6][0]                     \n",
      "__________________________________________________________________________________________________\n",
      "concatenate_1 (Concatenate)     (None, 7, 128)       0           lstm_2[0][0]                     \n",
      "                                                                 repeat_vector_1[0][0]            \n",
      "__________________________________________________________________________________________________\n",
      "dense_1 (Dense)                 (None, 7, 16)        2064        concatenate_1[0][0]              \n",
      "                                                                 concatenate_2[0][0]              \n",
      "                                                                 concatenate_3[0][0]              \n",
      "                                                                 concatenate_4[0][0]              \n",
      "                                                                 concatenate_5[0][0]              \n",
      "                                                                 concatenate_6[0][0]              \n",
      "                                                                 concatenate_7[0][0]              \n",
      "                                                                 concatenate_8[0][0]              \n",
      "__________________________________________________________________________________________________\n",
      "dense_2 (Dense)                 (None, 7, 1)         17          dense_1[0][0]                    \n",
      "                                                                 dense_1[1][0]                    \n",
      "                                                                 dense_1[2][0]                    \n",
      "                                                                 dense_1[3][0]                    \n",
      "                                                                 dense_1[4][0]                    \n",
      "                                                                 dense_1[5][0]                    \n",
      "                                                                 dense_1[6][0]                    \n",
      "                                                                 dense_1[7][0]                    \n",
      "__________________________________________________________________________________________________\n",
      "dot_1 (Dot)                     (None, 1, 64)        0           dense_2[0][0]                    \n",
      "                                                                 lstm_2[0][0]                     \n",
      "                                                                 dense_2[1][0]                    \n",
      "                                                                 lstm_2[0][0]                     \n",
      "                                                                 dense_2[2][0]                    \n",
      "                                                                 lstm_2[0][0]                     \n",
      "                                                                 dense_2[3][0]                    \n",
      "                                                                 lstm_2[0][0]                     \n",
      "                                                                 dense_2[4][0]                    \n",
      "                                                                 lstm_2[0][0]                     \n",
      "                                                                 dense_2[5][0]                    \n",
      "                                                                 lstm_2[0][0]                     \n",
      "                                                                 dense_2[6][0]                    \n",
      "                                                                 lstm_2[0][0]                     \n",
      "                                                                 dense_2[7][0]                    \n",
      "                                                                 lstm_2[0][0]                     \n",
      "__________________________________________________________________________________________________\n",
      "activation_1 (Activation)       (None, 1, 64)        0           dot_1[0][0]                      \n",
      "                                                                 dot_1[1][0]                      \n",
      "                                                                 dot_1[2][0]                      \n",
      "                                                                 dot_1[3][0]                      \n",
      "                                                                 dot_1[4][0]                      \n",
      "                                                                 dot_1[5][0]                      \n",
      "                                                                 dot_1[6][0]                      \n",
      "                                                                 dot_1[7][0]                      \n",
      "__________________________________________________________________________________________________\n",
      "input_3 (InputLayer)            (None, 64)           0                                            \n",
      "__________________________________________________________________________________________________\n",
      "lstm_1 (LSTM)                   [(None, 64), (None,  33024       activation_1[0][0]               \n",
      "                                                                 input_2[0][0]                    \n",
      "                                                                 input_3[0][0]                    \n",
      "                                                                 activation_1[1][0]               \n",
      "                                                                 lstm_1[0][0]                     \n",
      "                                                                 lstm_1[0][2]                     \n",
      "                                                                 activation_1[2][0]               \n",
      "                                                                 lstm_1[1][0]                     \n",
      "                                                                 lstm_1[1][2]                     \n",
      "                                                                 activation_1[3][0]               \n",
      "                                                                 lstm_1[2][0]                     \n",
      "                                                                 lstm_1[2][2]                     \n",
      "                                                                 activation_1[4][0]               \n",
      "                                                                 lstm_1[3][0]                     \n",
      "                                                                 lstm_1[3][2]                     \n",
      "                                                                 activation_1[5][0]               \n",
      "                                                                 lstm_1[4][0]                     \n",
      "                                                                 lstm_1[4][2]                     \n",
      "                                                                 activation_1[6][0]               \n",
      "                                                                 lstm_1[5][0]                     \n",
      "                                                                 lstm_1[5][2]                     \n",
      "                                                                 activation_1[7][0]               \n",
      "                                                                 lstm_1[6][0]                     \n",
      "                                                                 lstm_1[6][2]                     \n",
      "__________________________________________________________________________________________________\n",
      "concatenate_2 (Concatenate)     (None, 7, 128)       0           lstm_2[0][0]                     \n",
      "                                                                 repeat_vector_1[1][0]            \n",
      "__________________________________________________________________________________________________\n",
      "concatenate_3 (Concatenate)     (None, 7, 128)       0           lstm_2[0][0]                     \n",
      "                                                                 repeat_vector_1[2][0]            \n",
      "__________________________________________________________________________________________________\n",
      "concatenate_4 (Concatenate)     (None, 7, 128)       0           lstm_2[0][0]                     \n",
      "                                                                 repeat_vector_1[3][0]            \n",
      "__________________________________________________________________________________________________\n",
      "concatenate_5 (Concatenate)     (None, 7, 128)       0           lstm_2[0][0]                     \n",
      "                                                                 repeat_vector_1[4][0]            \n",
      "__________________________________________________________________________________________________\n",
      "concatenate_6 (Concatenate)     (None, 7, 128)       0           lstm_2[0][0]                     \n",
      "                                                                 repeat_vector_1[5][0]            \n",
      "__________________________________________________________________________________________________\n",
      "concatenate_7 (Concatenate)     (None, 7, 128)       0           lstm_2[0][0]                     \n",
      "                                                                 repeat_vector_1[6][0]            \n",
      "__________________________________________________________________________________________________\n",
      "concatenate_8 (Concatenate)     (None, 7, 128)       0           lstm_2[0][0]                     \n",
      "                                                                 repeat_vector_1[7][0]            \n",
      "__________________________________________________________________________________________________\n",
      "dense_3 (Dense)                 (None, 28)           1820        lstm_1[0][0]                     \n",
      "                                                                 lstm_1[1][0]                     \n",
      "                                                                 lstm_1[2][0]                     \n",
      "                                                                 lstm_1[3][0]                     \n",
      "                                                                 lstm_1[4][0]                     \n",
      "                                                                 lstm_1[5][0]                     \n",
      "                                                                 lstm_1[6][0]                     \n",
      "                                                                 lstm_1[7][0]                     \n",
      "==================================================================================================\n",
      "Total params: 60,381\n",
      "Trainable params: 60,381\n",
      "Non-trainable params: 0\n",
      "__________________________________________________________________________________________________\n"
     ]
    }
   ],
   "source": [
    "model.summary()"
   ]
  },
  {
   "cell_type": "code",
   "execution_count": 44,
   "metadata": {},
   "outputs": [],
   "source": [
    "model.compile(optimizer='adam',metrics=['accuracy'],loss='categorical_crossentropy')"
   ]
  },
  {
   "cell_type": "code",
   "execution_count": 45,
   "metadata": {},
   "outputs": [],
   "source": [
    "m=len(data1)\n",
    "epochs=100\n"
   ]
  },
  {
   "cell_type": "code",
   "execution_count": 46,
   "metadata": {},
   "outputs": [],
   "source": [
    "s0=np.zeros((m,n_s))\n",
    "c0=np.zeros((m,n_s))"
   ]
  },
  {
   "cell_type": "code",
   "execution_count": 47,
   "metadata": {},
   "outputs": [
    {
     "data": {
      "text/plain": [
       "(10000, 7)"
      ]
     },
     "execution_count": 47,
     "metadata": {},
     "output_type": "execute_result"
    }
   ],
   "source": [
    "xtrain.shape"
   ]
  },
  {
   "cell_type": "code",
   "execution_count": 48,
   "metadata": {},
   "outputs": [
    {
     "data": {
      "text/plain": [
       "8"
      ]
     },
     "execution_count": 48,
     "metadata": {},
     "output_type": "execute_result"
    }
   ],
   "source": [
    "len(list(y_hot.swapaxes(0,1)))"
   ]
  },
  {
   "cell_type": "code",
   "execution_count": 49,
   "metadata": {},
   "outputs": [
    {
     "name": "stdout",
     "output_type": "stream",
     "text": [
      "Epoch 1/100\n",
      "10000/10000 [==============================] - 18s 2ms/step - loss: 19.7215 - dense_3_loss: 1.1064 - dense_3_acc: 0.0909 - dense_3_acc_1: 0.0000e+00 - dense_3_acc_2: 0.1365 - dense_3_acc_3: 0.2833 - dense_3_acc_4: 0.4150 - dense_3_acc_5: 0.5598 - dense_3_acc_6: 0.7026 - dense_3_acc_7: 0.8436\n",
      "Epoch 2/100\n",
      "10000/10000 [==============================] - 9s 911us/step - loss: 16.2069 - dense_3_loss: 0.4561 - dense_3_acc: 0.8930 - dense_3_acc_1: 0.0000e+00 - dense_3_acc_2: 0.1383 - dense_3_acc_3: 0.2868 - dense_3_acc_4: 0.4226 - dense_3_acc_5: 0.5692 - dense_3_acc_6: 0.7130 - dense_3_acc_7: 0.8550\n",
      "Epoch 3/100\n",
      "10000/10000 [==============================] - 9s 912us/step - loss: 13.3604 - dense_3_loss: 0.3300 - dense_3_acc: 1.0000 - dense_3_acc_1: 0.0000e+00 - dense_3_acc_2: 0.1646 - dense_3_acc_3: 0.3495 - dense_3_acc_4: 0.4907 - dense_3_acc_5: 0.6269 - dense_3_acc_6: 0.7562 - dense_3_acc_7: 0.8798\n",
      "Epoch 4/100\n",
      "10000/10000 [==============================] - 9s 924us/step - loss: 10.8700 - dense_3_loss: 0.2928 - dense_3_acc: 1.0000 - dense_3_acc_1: 0.0152 - dense_3_acc_2: 0.2190 - dense_3_acc_3: 0.3928 - dense_3_acc_4: 0.5302 - dense_3_acc_5: 0.6578 - dense_3_acc_6: 0.7747 - dense_3_acc_7: 0.8913\n",
      "Epoch 5/100\n",
      "10000/10000 [==============================] - 9s 934us/step - loss: 9.6665 - dense_3_loss: 0.2805 - dense_3_acc: 1.0000 - dense_3_acc_1: 0.1290 - dense_3_acc_2: 0.2461 - dense_3_acc_3: 0.4105 - dense_3_acc_4: 0.5425 - dense_3_acc_5: 0.6674 - dense_3_acc_6: 0.7830 - dense_3_acc_7: 0.8925\n",
      "Epoch 6/100\n",
      "10000/10000 [==============================] - 9s 917us/step - loss: 9.2141 - dense_3_loss: 0.2658 - dense_3_acc: 1.0000 - dense_3_acc_1: 0.1444 - dense_3_acc_2: 0.2625 - dense_3_acc_3: 0.4143 - dense_3_acc_4: 0.5424 - dense_3_acc_5: 0.6664 - dense_3_acc_6: 0.7797 - dense_3_acc_7: 0.8969\n",
      "Epoch 7/100\n",
      "10000/10000 [==============================] - 9s 917us/step - loss: 8.9639 - dense_3_loss: 0.2607 - dense_3_acc: 1.0000 - dense_3_acc_1: 0.1498 - dense_3_acc_2: 0.2728 - dense_3_acc_3: 0.4197 - dense_3_acc_4: 0.5590 - dense_3_acc_5: 0.6753 - dense_3_acc_6: 0.7823 - dense_3_acc_7: 0.9011\n",
      "Epoch 8/100\n",
      "10000/10000 [==============================] - 12s 1ms/step - loss: 8.7576 - dense_3_loss: 0.2594 - dense_3_acc: 1.0000 - dense_3_acc_1: 0.1549 - dense_3_acc_2: 0.2802 - dense_3_acc_3: 0.4371 - dense_3_acc_4: 0.5635 - dense_3_acc_5: 0.6758 - dense_3_acc_6: 0.7869 - dense_3_acc_7: 0.9015\n",
      "Epoch 9/100\n",
      "10000/10000 [==============================] - 9s 915us/step - loss: 8.5202 - dense_3_loss: 0.2557 - dense_3_acc: 1.0000 - dense_3_acc_1: 0.1653 - dense_3_acc_2: 0.2811 - dense_3_acc_3: 0.4533 - dense_3_acc_4: 0.5780 - dense_3_acc_5: 0.6809 - dense_3_acc_6: 0.7899 - dense_3_acc_7: 0.9023\n",
      "Epoch 10/100\n",
      "10000/10000 [==============================] - 9s 906us/step - loss: 8.2387 - dense_3_loss: 0.2449 - dense_3_acc: 1.0000 - dense_3_acc_1: 0.1803 - dense_3_acc_2: 0.2985 - dense_3_acc_3: 0.4742 - dense_3_acc_4: 0.5872 - dense_3_acc_5: 0.6892 - dense_3_acc_6: 0.7963 - dense_3_acc_7: 0.9055\n",
      "Epoch 11/100\n",
      "10000/10000 [==============================] - 9s 931us/step - loss: 7.9669 - dense_3_loss: 0.2358 - dense_3_acc: 1.0000 - dense_3_acc_1: 0.1899 - dense_3_acc_2: 0.3111 - dense_3_acc_3: 0.4915 - dense_3_acc_4: 0.5953 - dense_3_acc_5: 0.7006 - dense_3_acc_6: 0.8012 - dense_3_acc_7: 0.9103\n",
      "Epoch 12/100\n",
      "10000/10000 [==============================] - 9s 926us/step - loss: 7.7723 - dense_3_loss: 0.2342 - dense_3_acc: 1.0000 - dense_3_acc_1: 0.1998 - dense_3_acc_2: 0.3329 - dense_3_acc_3: 0.4957 - dense_3_acc_4: 0.6017 - dense_3_acc_5: 0.7016 - dense_3_acc_6: 0.8005 - dense_3_acc_7: 0.9068\n",
      "Epoch 13/100\n",
      "10000/10000 [==============================] - 9s 912us/step - loss: 7.5864 - dense_3_loss: 0.2241 - dense_3_acc: 1.0000 - dense_3_acc_1: 0.2133 - dense_3_acc_2: 0.3395 - dense_3_acc_3: 0.4993 - dense_3_acc_4: 0.6096 - dense_3_acc_5: 0.7055 - dense_3_acc_6: 0.8041 - dense_3_acc_7: 0.9140\n",
      "Epoch 14/100\n",
      "10000/10000 [==============================] - 9s 907us/step - loss: 7.4643 - dense_3_loss: 0.2262 - dense_3_acc: 1.0000 - dense_3_acc_1: 0.2237 - dense_3_acc_2: 0.3507 - dense_3_acc_3: 0.5015 - dense_3_acc_4: 0.6126 - dense_3_acc_5: 0.7107 - dense_3_acc_6: 0.8050 - dense_3_acc_7: 0.9158\n",
      "Epoch 15/100\n",
      "10000/10000 [==============================] - 9s 912us/step - loss: 7.3508 - dense_3_loss: 0.2247 - dense_3_acc: 1.0000 - dense_3_acc_1: 0.2265 - dense_3_acc_2: 0.3620 - dense_3_acc_3: 0.5031 - dense_3_acc_4: 0.6134 - dense_3_acc_5: 0.7130 - dense_3_acc_6: 0.8076 - dense_3_acc_7: 0.9150\n",
      "Epoch 16/100\n",
      "10000/10000 [==============================] - 9s 910us/step - loss: 7.2310 - dense_3_loss: 0.2187 - dense_3_acc: 1.0000 - dense_3_acc_1: 0.2317 - dense_3_acc_2: 0.3665 - dense_3_acc_3: 0.5115 - dense_3_acc_4: 0.6219 - dense_3_acc_5: 0.7216 - dense_3_acc_6: 0.8088 - dense_3_acc_7: 0.9189\n",
      "Epoch 17/100\n",
      "10000/10000 [==============================] - 9s 915us/step - loss: 7.1485 - dense_3_loss: 0.2177 - dense_3_acc: 1.0000 - dense_3_acc_1: 0.2391 - dense_3_acc_2: 0.3706 - dense_3_acc_3: 0.5152 - dense_3_acc_4: 0.6220 - dense_3_acc_5: 0.7238 - dense_3_acc_6: 0.8160 - dense_3_acc_7: 0.9177\n",
      "Epoch 18/100\n",
      "10000/10000 [==============================] - 9s 922us/step - loss: 7.0475 - dense_3_loss: 0.2153 - dense_3_acc: 1.0000 - dense_3_acc_1: 0.2433 - dense_3_acc_2: 0.3781 - dense_3_acc_3: 0.5253 - dense_3_acc_4: 0.6294 - dense_3_acc_5: 0.7248 - dense_3_acc_6: 0.8167 - dense_3_acc_7: 0.9193\n",
      "Epoch 19/100\n",
      "10000/10000 [==============================] - 9s 902us/step - loss: 6.9389 - dense_3_loss: 0.2106 - dense_3_acc: 1.0000 - dense_3_acc_1: 0.2518 - dense_3_acc_2: 0.3905 - dense_3_acc_3: 0.5286 - dense_3_acc_4: 0.6333 - dense_3_acc_5: 0.7317 - dense_3_acc_6: 0.8206 - dense_3_acc_7: 0.9199\n",
      "Epoch 20/100\n",
      "10000/10000 [==============================] - 9s 929us/step - loss: 6.8031 - dense_3_loss: 0.2068 - dense_3_acc: 1.0000 - dense_3_acc_1: 0.2558 - dense_3_acc_2: 0.3980 - dense_3_acc_3: 0.5330 - dense_3_acc_4: 0.6410 - dense_3_acc_5: 0.7379 - dense_3_acc_6: 0.8199 - dense_3_acc_7: 0.9175\n",
      "Epoch 21/100\n",
      "10000/10000 [==============================] - 9s 916us/step - loss: 6.6045 - dense_3_loss: 0.1920 - dense_3_acc: 1.0000 - dense_3_acc_1: 0.2657 - dense_3_acc_2: 0.4058 - dense_3_acc_3: 0.5482 - dense_3_acc_4: 0.6569 - dense_3_acc_5: 0.7519 - dense_3_acc_6: 0.8328 - dense_3_acc_7: 0.9244\n",
      "Epoch 22/100\n",
      "10000/10000 [==============================] - 9s 918us/step - loss: 6.4420 - dense_3_loss: 0.1926 - dense_3_acc: 1.0000 - dense_3_acc_1: 0.2684 - dense_3_acc_2: 0.4229 - dense_3_acc_3: 0.5614 - dense_3_acc_4: 0.6661 - dense_3_acc_5: 0.7573 - dense_3_acc_6: 0.8345 - dense_3_acc_7: 0.9226\n",
      "Epoch 23/100\n",
      "10000/10000 [==============================] - 9s 902us/step - loss: 6.2159 - dense_3_loss: 0.1803 - dense_3_acc: 1.0000 - dense_3_acc_1: 0.2787 - dense_3_acc_2: 0.4505 - dense_3_acc_3: 0.5743 - dense_3_acc_4: 0.6766 - dense_3_acc_5: 0.7622 - dense_3_acc_6: 0.8430 - dense_3_acc_7: 0.9275\n",
      "Epoch 24/100\n",
      "10000/10000 [==============================] - 9s 909us/step - loss: 6.0339 - dense_3_loss: 0.1789 - dense_3_acc: 1.0000 - dense_3_acc_1: 0.3011 - dense_3_acc_2: 0.4668 - dense_3_acc_3: 0.5830 - dense_3_acc_4: 0.6817 - dense_3_acc_5: 0.7706 - dense_3_acc_6: 0.8393 - dense_3_acc_7: 0.9271\n",
      "Epoch 25/100\n",
      " 2304/10000 [=====>........................] - ETA: 6s - loss: 5.8619 - dense_3_loss: 0.1777 - dense_3_acc: 1.0000 - dense_3_acc_1: 0.3312 - dense_3_acc_2: 0.4852 - dense_3_acc_3: 0.5890 - dense_3_acc_4: 0.6957 - dense_3_acc_5: 0.7878 - dense_3_acc_6: 0.8511 - dense_3_acc_7: 0.9266"
     ]
    }
   ],
   "source": [
    "model.fit([xtrain,s0,c0],list(y_hot.swapaxes(0,1)),epochs=epochs,batch_size=64)"
   ]
  },
  {
   "cell_type": "code",
   "execution_count": 50,
   "metadata": {},
   "outputs": [],
   "source": [
    "s1=np.zeros((10,n_s))\n",
    "c1=np.zeros((10,n_s))"
   ]
  },
  {
   "cell_type": "code",
   "execution_count": 51,
   "metadata": {},
   "outputs": [],
   "source": [
    "# During training i realised  accuracy of first time step of decoder changes less as compared to other timesteps\n",
    "# so its better if we add <go> token at start of decoder train output and then train model\n",
    "\n",
    "# After watching training process :\n",
    "# Initially last timesteps of decoder improves a lot faster then first time steps of decoder \n",
    "# later on first few times of decoder starts to improve"
   ]
  },
  {
   "cell_type": "code",
   "execution_count": 52,
   "metadata": {},
   "outputs": [],
   "source": [
    "out1=model.predict([xtrain[:10],s1,c1])"
   ]
  },
  {
   "cell_type": "code",
   "execution_count": 53,
   "metadata": {},
   "outputs": [],
   "source": [
    "out2=np.stack(out1,axis=1)"
   ]
  },
  {
   "cell_type": "code",
   "execution_count": 54,
   "metadata": {},
   "outputs": [
    {
     "data": {
      "text/plain": [
       "(10, 8, 28)"
      ]
     },
     "execution_count": 54,
     "metadata": {},
     "output_type": "execute_result"
    }
   ],
   "source": [
    "out2.shape"
   ]
  },
  {
   "cell_type": "code",
   "execution_count": 55,
   "metadata": {},
   "outputs": [],
   "source": [
    "outpred=np.argmax(out2,axis=-1)"
   ]
  },
  {
   "cell_type": "code",
   "execution_count": 56,
   "metadata": {},
   "outputs": [
    {
     "data": {
      "text/plain": [
       "array([[27,  8, 12,  2,  2,  5,  0,  0],\n",
       "       [27, 22,  1, 13,  0,  0,  0,  0],\n",
       "       [27, 12, 11, 21, 15, 25,  0,  0],\n",
       "       [27, 12,  2,  3,  0,  0,  0,  0],\n",
       "       [27,  8, 19, 26, 21,  0,  0,  0],\n",
       "       [27, 12, 24, 14,  4, 20,  0,  0],\n",
       "       [27,  7, 14, 16, 11,  1,  2, 17],\n",
       "       [27, 22,  1,  5,  3,  0,  0,  0],\n",
       "       [27,  6, 26, 23, 15, 18,  0,  0],\n",
       "       [27, 24, 26, 21,  4,  2,  0,  0]])"
      ]
     },
     "execution_count": 56,
     "metadata": {},
     "output_type": "execute_result"
    }
   ],
   "source": [
    "outpred"
   ]
  },
  {
   "cell_type": "code",
   "execution_count": 57,
   "metadata": {},
   "outputs": [
    {
     "data": {
      "text/plain": [
       "array([[27.,  8., 12.,  2.,  2.,  5.,  0.,  0.],\n",
       "       [27., 22.,  1., 13.,  0.,  0.,  0.,  0.],\n",
       "       [27., 12., 11., 21., 15., 25.,  0.,  0.],\n",
       "       [27., 12.,  2.,  3.,  0.,  0.,  0.,  0.],\n",
       "       [27.,  8., 19., 26., 21.,  0.,  0.,  0.],\n",
       "       [27.,  8.,  7.,  7.,  4., 20.,  0.,  0.],\n",
       "       [27.,  7., 14., 16., 11.,  1.,  1., 17.],\n",
       "       [27., 22.,  1.,  5.,  3.,  0.,  0.,  0.],\n",
       "       [27.,  6., 21., 23., 15., 18.,  0.,  0.],\n",
       "       [27., 24., 26., 21.,  4.,  2.,  0.,  0.]])"
      ]
     },
     "execution_count": 57,
     "metadata": {},
     "output_type": "execute_result"
    }
   ],
   "source": [
    "y[:10]"
   ]
  },
  {
   "cell_type": "code",
   "execution_count": 58,
   "metadata": {},
   "outputs": [],
   "source": [
    "#Done "
   ]
  }
 ],
 "metadata": {
  "kernelspec": {
   "display_name": "Python 3",
   "language": "python",
   "name": "python3"
  },
  "language_info": {
   "codemirror_mode": {
    "name": "ipython",
    "version": 3
   },
   "file_extension": ".py",
   "mimetype": "text/x-python",
   "name": "python",
   "nbconvert_exporter": "python",
   "pygments_lexer": "ipython3",
   "version": "3.6.6"
  }
 },
 "nbformat": 4,
 "nbformat_minor": 1
}
